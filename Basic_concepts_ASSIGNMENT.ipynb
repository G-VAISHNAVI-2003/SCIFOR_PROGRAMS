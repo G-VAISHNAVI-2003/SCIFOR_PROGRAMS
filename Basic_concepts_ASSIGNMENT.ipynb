{
  "nbformat": 4,
  "nbformat_minor": 0,
  "metadata": {
    "colab": {
      "provenance": [],
      "authorship_tag": "ABX9TyMPavT2gXt42ig5V1zLLOeC",
      "include_colab_link": true
    },
    "kernelspec": {
      "name": "python3",
      "display_name": "Python 3"
    },
    "language_info": {
      "name": "python"
    }
  },
  "cells": [
    {
      "cell_type": "markdown",
      "metadata": {
        "id": "view-in-github",
        "colab_type": "text"
      },
      "source": [
        "<a href=\"https://colab.research.google.com/github/G-VAISHNAVI-2003/SCIFOR_PROGRAMS/blob/main/Basic_concepts_ASSIGNMENT.ipynb\" target=\"_parent\"><img src=\"https://colab.research.google.com/assets/colab-badge.svg\" alt=\"Open In Colab\"/></a>"
      ]
    },
    {
      "cell_type": "markdown",
      "source": [
        "Mathew, a 13 year old kid, is good at math but whenever it comes to the even and odd numbers he always faces difficulty to find the even or odd number greater than 10. So write a python program to help Mathew to print odd and even numbers in a certain range using a for loop.\n"
      ],
      "metadata": {
        "id": "T2JMh-qs8wn1"
      }
    },
    {
      "cell_type": "code",
      "source": [
        "st_input = 10\n",
        "end_input = int(input(\"Enter the ending number:\"))\n",
        "for i in range(st_input,end_input):\n",
        "  if i%2 ==0:\n",
        "    print(\"even numbers :\",i)\n",
        "for i in range(st_input,end_input):\n",
        "  if i%2 != 0 :\n",
        "    print(\"odd numbers :\",i)\n"
      ],
      "metadata": {
        "colab": {
          "base_uri": "https://localhost:8080/"
        },
        "id": "R_430SXX810K",
        "outputId": "156a2ea1-e442-4958-874b-debfbe1f8a9b"
      },
      "execution_count": null,
      "outputs": [
        {
          "output_type": "stream",
          "name": "stdout",
          "text": [
            "Enter the ending number:40\n",
            "even numbers : 10\n",
            "even numbers : 12\n",
            "even numbers : 14\n",
            "even numbers : 16\n",
            "even numbers : 18\n",
            "even numbers : 20\n",
            "even numbers : 22\n",
            "even numbers : 24\n",
            "even numbers : 26\n",
            "even numbers : 28\n",
            "even numbers : 30\n",
            "even numbers : 32\n",
            "even numbers : 34\n",
            "even numbers : 36\n",
            "even numbers : 38\n",
            "odd numbers : 11\n",
            "odd numbers : 13\n",
            "odd numbers : 15\n",
            "odd numbers : 17\n",
            "odd numbers : 19\n",
            "odd numbers : 21\n",
            "odd numbers : 23\n",
            "odd numbers : 25\n",
            "odd numbers : 27\n",
            "odd numbers : 29\n",
            "odd numbers : 31\n",
            "odd numbers : 33\n",
            "odd numbers : 35\n",
            "odd numbers : 37\n",
            "odd numbers : 39\n"
          ]
        }
      ]
    },
    {
      "cell_type": "markdown",
      "source": [
        "create a program to the find total number of upper letters,lower letters,digits and the symbols using if elif else, for loop and string operations\n"
      ],
      "metadata": {
        "id": "ukmgNsaP9iNU"
      }
    },
    {
      "cell_type": "code",
      "source": [
        "word = str(input(\"Enter the word:\"))\n",
        "up,l,d,s = 0,0,0,0\n",
        "for i in word:\n",
        "  if i.isupper():\n",
        "    up += 1\n",
        "  elif i.islower():\n",
        "    l +=1\n",
        "  elif i.isdigit():\n",
        "    d += 1\n",
        "  else:\n",
        "    s += 1\n",
        "print(\"uppercase :\",up,\"\\n lowercase:\",l,\"\\n digits:\",d,\"\\n symbols:\",s)\n"
      ],
      "metadata": {
        "colab": {
          "base_uri": "https://localhost:8080/"
        },
        "id": "bcmFm4Lc9k5b",
        "outputId": "4c04988a-35d4-4a98-dd58-aa7fc855d34d"
      },
      "execution_count": null,
      "outputs": [
        {
          "output_type": "stream",
          "name": "stdout",
          "text": [
            "Enter the word:HellO98@3\n",
            "uppercase : 2 \n",
            " lowercase: 3 \n",
            " digits: 3 \n",
            " symbols: 1\n"
          ]
        }
      ]
    },
    {
      "cell_type": "markdown",
      "source": [
        "Mrs. Olivia, a entrepreneur, is running a mini business and wanted to create a very simple form which takes only the user's name and the user's password so that all her customers can have access to her business dashboard. Mrs. Olivia wants her customers to just enter the password with only alphabets and no numbers allowed for some reason.Mrs. Olivia just knows how to create a form but she doesn't know how to give the validation. So to help Mrs. Olivia, write a python program to validate Mrs.Olivia's form where password should only consist of alphabets. Hint:Use isalpha() function.\n"
      ],
      "metadata": {
        "id": "SgwXdnXU_iex"
      }
    },
    {
      "cell_type": "code",
      "source": [
        "username = input(\"Enter the Username:\")\n",
        "password = input(\"Enter the Password:\")\n",
        "if password.isalpha():\n",
        "  print(\"Welcome\",password)\n",
        "else:\n",
        "  print(\"Invalid Password\")"
      ],
      "metadata": {
        "colab": {
          "base_uri": "https://localhost:8080/"
        },
        "id": "7B4zB34__jJ-",
        "outputId": "4d08a4a1-03f0-45b7-b6d5-423e8d203199"
      },
      "execution_count": null,
      "outputs": [
        {
          "output_type": "stream",
          "name": "stdout",
          "text": [
            "Enter the Username:priya\n",
            "Enter the Password:priya\n",
            "Welcome priya\n"
          ]
        }
      ]
    },
    {
      "cell_type": "markdown",
      "source": [
        "Christiana is a kid who is born on leap year, but she doesn't know which year would be a leap year for her so that she can celebrate her birthday hence write a python program to help Chirstiana in finding out if the given year is a leap year or not\n"
      ],
      "metadata": {
        "id": "HgXzh2b5Cy2f"
      }
    },
    {
      "cell_type": "code",
      "source": [
        "year = int(input(\"Enter the year:\"))\n",
        "if ((year%4 == 0 and year%100 != 0) or year%400 ==0):\n",
        "  print(year,\"is a leap year\")\n",
        "else:\n",
        "  print(year,\"is not a leap year\")"
      ],
      "metadata": {
        "colab": {
          "base_uri": "https://localhost:8080/"
        },
        "id": "b5Aa5xbFC4BS",
        "outputId": "7ea478bf-240d-4809-d515-a439bf37cd22"
      },
      "execution_count": null,
      "outputs": [
        {
          "output_type": "stream",
          "name": "stdout",
          "text": [
            "Enter the year:24\n",
            "24 is a leap year\n"
          ]
        }
      ]
    },
    {
      "cell_type": "markdown",
      "source": [
        "In a classroom, there are desks arranged in a row and column fashion. The math teacher, Mr. James, asked one of the kid whose name was Robert to count the total number of desks present in the class. Robert was just wondering if there is software that could take the number of rows and number of columns and show how many desks there are that would make his job easier. So write a python program to help Robert to count the number of desks present in the class."
      ],
      "metadata": {
        "id": "QoJQDIzio5fm"
      }
    },
    {
      "cell_type": "code",
      "source": [
        "row = int(input(\"Enter the number of rows:\"))\n",
        "col = int(input(\"Enter the number of columns:\"))\n",
        "desk = 0\n",
        "for i in range(row):\n",
        "  for j in range(col):\n",
        "    desk += 1\n",
        "print(\"The total desk count is:\",desk)\n"
      ],
      "metadata": {
        "colab": {
          "base_uri": "https://localhost:8080/"
        },
        "id": "cIYIa0IDo55P",
        "outputId": "38e296d0-70a9-4bda-d310-ad4e48e16ed6"
      },
      "execution_count": null,
      "outputs": [
        {
          "output_type": "stream",
          "name": "stdout",
          "text": [
            "Enter the number of rows:2\n",
            "Enter the number of columns:3\n",
            "The total desk count is: 6\n"
          ]
        }
      ]
    },
    {
      "cell_type": "markdown",
      "source": [
        "Mr James, A businessman in canada was throwing a small party in a banquet hall and wanted to track the number of people attended the party so he kept a people tracker device in the entrance where every person enters is supposed to enter his or her authorization code to enter the hall, certain codes were assigned they are as follows :\n",
        "If Banquet Hall Team Members like Manager, waiter, and Mr. James himself then their authorization code will be : 0\n",
        "If Guests Their Authorization Code Will be : 1\n",
        "If the Authorization Code Entered is 1 then increment the number_of_guests Variable by 1, Wish the Guest like\n",
        "\"Door Opened\"\n",
        "\"Welcome to the Party, We Hope you have fun.\"\n",
        "else If the Authorization Code Entered is 0 then print as follows\n",
        "\"Access Granted\"\n",
        "\"Door Opened\"\n",
        "else tell the person that his entered number is invalid\n"
      ],
      "metadata": {
        "id": "5MHc6k6eqC6P"
      }
    },
    {
      "cell_type": "code",
      "source": [
        "total = int(input(\"Enter the guest james invited: \"))\n",
        "number_of_guests = 0\n",
        "for i in range(total):\n",
        "  code = int(input(\"Enter the code:\"))\n",
        "  if code == 0:\n",
        "    print(\"Access Granted Door opened..\")\n",
        "  elif code == 1:\n",
        "    number_of_guests += 1\n",
        "    print(\"Door Opened Welcome to the Party, We Hope you have fun\")\n",
        "  else:\n",
        "    print(\"Invalid access\")\n",
        "print(\"The total guests:\",number_of_guests)\n",
        "\n",
        "\n"
      ],
      "metadata": {
        "id": "Wt0ln1V2qDUR",
        "colab": {
          "base_uri": "https://localhost:8080/"
        },
        "outputId": "5ad8c8c1-b0be-4ca8-9477-0132c5c82fb5"
      },
      "execution_count": null,
      "outputs": [
        {
          "output_type": "stream",
          "name": "stdout",
          "text": [
            "Enter the guest james invited: 5\n",
            "Enter the code:1\n",
            "Door Opened Welcome to the Party, We Hope you have fun\n",
            "Enter the code:0\n",
            "Access Granted Door opened..\n",
            "Enter the code:0\n",
            "Access Granted Door opened..\n",
            "Enter the code:1\n",
            "Door Opened Welcome to the Party, We Hope you have fun\n",
            "Enter the code:1\n",
            "Door Opened Welcome to the Party, We Hope you have fun\n",
            "The total guests: 3\n"
          ]
        }
      ]
    },
    {
      "cell_type": "markdown",
      "source": [
        "Candy Vending Machine is topped up and is supposed to deliver the number of candies entered by the user but before delivering the candies the vending machine is supposed to ask the user to enter the amount for the candies where each candy is worth 1 dollar. So write a python program that can be loaded into the vending machine so that the vending machine can act accordingly. HINT: create a variable named total_candies_to_load and take the input from the user on how many candies to be loaded on to the vending machine print the vending machine title as \"🍬🍬Candy Vending Machine🍬🍬\" and print total number of candies loaded into the vending machine along with it. create a variable named numberOfCandiesUserWants to store the number of candies required by the user accept the number of candies the customer wants as an input into the variable numberOfCandiesUserWants that we created in the previous step and if the number of candies required by the customer is less than zero or greater than total number of candies in the machine, print “You have entered number of candies which is either zero or less than zero and is not possible to disperse please try again or visit once again Thanks for shopping with us!!! we will be happy to serve you once again” Using the concept of nested loops, print the amount the customer has to pay given cost of 1 candy = 1$. Confirm the money paid by the customer as input to UserMoney variable. If the UserMoney is equal to cost of candies, print delivering as many times as the number of candies ordered by the customer otherwise print “Enter wrong amount. Try again !” print the number of candies left in the vending machine and a thank you message"
      ],
      "metadata": {
        "id": "UWtGrimxu2q-"
      }
    },
    {
      "cell_type": "code",
      "source": [
        "total_candies_to_load = int(input(\"Enter the number of candies to be loaded: \"))\n",
        "print(\"Candy Vending Machine \", total_candies_to_load)\n",
        "\n",
        "number_of_candies_user_wants = int(input(\"Enter the number of candies user wants: \"))\n",
        "\n",
        "if number_of_candies_user_wants <= 0 or number_of_candies_user_wants > total_candies_to_load:\n",
        "    print(\"You have entered a number of candies which is either zero or less than zero and is not possible to disperse. Please try again or visit us again. Thanks for shopping with us! We will be happy to serve you once again.\")\n",
        "else:\n",
        "    cost_of_candies = number_of_candies_user_wants\n",
        "    print(\"Total cost of candies: $\" + str(cost_of_candies))\n",
        "    user_money = int(input(\"Please enter the amount you are paying: $\"))\n",
        "\n",
        "    if user_money == cost_of_candies:\n",
        "        print(\"Delivering\", number_of_candies_user_wants, \"the number of candies ordered by the customer\")\n",
        "        total_candies_to_load -= number_of_candies_user_wants\n",
        "        print(\"Number of candies left in the vending machine:\", total_candies_to_load, \". Thank you!\")\n",
        "    else:\n",
        "        print(\"Entered wrong amount. Try again !\")\n",
        "        print(\"Number of candies left in the vending machine:\", total_candies_to_load, \". Thank you!\")\n"
      ],
      "metadata": {
        "colab": {
          "base_uri": "https://localhost:8080/"
        },
        "id": "4wk-rEyMu33M",
        "outputId": "ffa200b4-8018-49a3-9897-362c2020a65b"
      },
      "execution_count": null,
      "outputs": [
        {
          "output_type": "stream",
          "name": "stdout",
          "text": [
            "Enter the number of candies to be loaded: 400\n",
            "Candy Vending Machine  400\n",
            "Enter the number of candies user wants: 100\n",
            "Total cost of candies: $100\n",
            "Please enter the amount you are paying: $100\n",
            "Delivering 100 the number of candies ordered by the customer\n",
            "Number of candies left in the vending machine: 300 . Thank you!\n"
          ]
        }
      ]
    },
    {
      "cell_type": "markdown",
      "source": [
        "An online essay writing competition was held in a school. The students were required to write at least 250 words. According to the rule, only that essay should be checked which contains at least 250 words. Teachers were just guessing the number of words in the essay but that was not an accurate way to count the number of words. So write a program that can count the number of words in an essay ( Hint: Take input and count the number of words using for loop | Note: to count the number of words you can just count the number of blank spaces given in the input. )"
      ],
      "metadata": {
        "id": "3nWL5H2dr8C0"
      }
    },
    {
      "cell_type": "code",
      "source": [
        "para_input = str(input(\"Enter the passage:\"))\n",
        "c = 0\n",
        "for i in para_input:\n",
        "  if i == ' ':\n",
        "    c += 1\n",
        "print(c+1)"
      ],
      "metadata": {
        "colab": {
          "base_uri": "https://localhost:8080/"
        },
        "id": "UCp7R-4Vr8gl",
        "outputId": "c6aa5146-8c1b-4406-a2d4-4a46d401ab52"
      },
      "execution_count": null,
      "outputs": [
        {
          "output_type": "stream",
          "name": "stdout",
          "text": [
            "Enter the passage:The sun was setting over the horizon, casting a warm glow across the sky. As evening descended, the city lights began to twinkle, signaling the start of another bustling night. People hurried along the streets, their footsteps echoing against the pavement. It was a scene of vibrant energy and anticipation.\n",
            "50\n"
          ]
        }
      ]
    },
    {
      "cell_type": "markdown",
      "source": [
        "Create  a program that find the number is prime number or not.\n"
      ],
      "metadata": {
        "id": "8G2Y2PNNt7ZV"
      }
    },
    {
      "cell_type": "code",
      "source": [
        "number = int(input(\"Enter a number to check if it's prime: \"))\n",
        "\n",
        "if number <= 1:\n",
        "    prime = False\n",
        "else:\n",
        "    prime = True\n",
        "    for i in range(2, int(number ** 0.5) + 1):\n",
        "        if number % i == 0:\n",
        "            prime = False\n",
        "            break\n",
        "\n",
        "if prime:\n",
        "    print(number, \"is a prime number.\")\n",
        "else:\n",
        "    print(number, \"is not a prime number.\")\n"
      ],
      "metadata": {
        "colab": {
          "base_uri": "https://localhost:8080/"
        },
        "id": "IPnOYcwDt74J",
        "outputId": "74ec108a-3e81-4ea2-ea36-e270e1e7b976"
      },
      "execution_count": null,
      "outputs": [
        {
          "output_type": "stream",
          "name": "stdout",
          "text": [
            "Enter a number to check if it's prime: 5\n",
            "5 is a prime number.\n"
          ]
        }
      ]
    }
  ]
}