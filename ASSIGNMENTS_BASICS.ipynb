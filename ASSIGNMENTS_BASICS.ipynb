{
  "nbformat": 4,
  "nbformat_minor": 0,
  "metadata": {
    "colab": {
      "provenance": [],
      "authorship_tag": "ABX9TyPEzYsbWKe70fqfBgZyTi2j",
      "include_colab_link": true
    },
    "kernelspec": {
      "name": "python3",
      "display_name": "Python 3"
    },
    "language_info": {
      "name": "python"
    }
  },
  "cells": [
    {
      "cell_type": "markdown",
      "metadata": {
        "id": "view-in-github",
        "colab_type": "text"
      },
      "source": [
        "<a href=\"https://colab.research.google.com/github/G-VAISHNAVI-2003/SCIFOR_PROGRAMS/blob/main/ASSIGNMENTS_BASICS.ipynb\" target=\"_parent\"><img src=\"https://colab.research.google.com/assets/colab-badge.svg\" alt=\"Open In Colab\"/></a>"
      ]
    },
    {
      "cell_type": "markdown",
      "source": [
        "ASSIGNMENT-1  \n",
        "Arvind just started learning python and he is very interested to know how he can print his name on the screen using python. Write a program to print Arvind on the screen. Print your name and age as well using a python print statement.\n"
      ],
      "metadata": {
        "id": "JcPQfdQmTKQP"
      }
    },
    {
      "cell_type": "code",
      "execution_count": null,
      "metadata": {
        "colab": {
          "base_uri": "https://localhost:8080/"
        },
        "id": "80R1y04qSqCY",
        "outputId": "065c6a99-7e97-4c10-84fd-de5299cf1c17"
      },
      "outputs": [
        {
          "output_type": "stream",
          "name": "stdout",
          "text": [
            "Arvind\n",
            "My name is Vaishnavi\n",
            "My age is 21\n"
          ]
        }
      ],
      "source": [
        "print(\"Arvind\")\n",
        "print(\"My name is Vaishnavi\")\n",
        "print(\"My age is 21\")"
      ]
    },
    {
      "cell_type": "markdown",
      "source": [
        "Himanshi is confused with different shapes. Write a program in python to print different shapes using these symbols: “|”, “-”, “/”, “\\”."
      ],
      "metadata": {
        "id": "WqUVPVRSUKyh"
      }
    },
    {
      "cell_type": "code",
      "source": [
        "print(\"|--|\")\n",
        "print(\"/__/\")\n",
        "print(\"|__|\")"
      ],
      "metadata": {
        "colab": {
          "base_uri": "https://localhost:8080/"
        },
        "id": "HSZTBv_ATWt8",
        "outputId": "4c02f481-1078-41b8-8513-aed8a3fa8c36"
      },
      "execution_count": null,
      "outputs": [
        {
          "output_type": "stream",
          "name": "stdout",
          "text": [
            "|--|\n",
            "/__/\n",
            "|__|\n"
          ]
        }
      ]
    },
    {
      "cell_type": "markdown",
      "source": [
        "Sahil challenged Chirag to print the names of his friend in different lines using a single print statement. Sahil thought that this would be impossible to do. To help Chirag write a python program to print the names of your five friends in five different lines using a single print statem\n",
        "\n"
      ],
      "metadata": {
        "id": "y4Qe1dPBVguJ"
      }
    },
    {
      "cell_type": "code",
      "source": [
        "print(\"My five friends names are:\\n Priya\\n Daniel\\n swathi\\n srikanth\\n varsha\\n\")"
      ],
      "metadata": {
        "colab": {
          "base_uri": "https://localhost:8080/"
        },
        "id": "fHNz17zKVfuX",
        "outputId": "5dc749a6-3b88-45a1-8a42-0ecf94c1e090"
      },
      "execution_count": null,
      "outputs": [
        {
          "output_type": "stream",
          "name": "stdout",
          "text": [
            "My five friends names are:\n",
            " Priya\n",
            " Daniel\n",
            " swathi\n",
            " srikanth\n",
            " varsha\n",
            "\n"
          ]
        }
      ]
    },
    {
      "cell_type": "markdown",
      "source": [
        "1:A teacher told students to write an essay on themselves. Nidhi created a python program that can generate an essay just by taking inputs. She shared the program with her friends to help them. Write a python program that can take inputs like name, age, address, etc, and convert it into an essay. ● Rakshita wants to create a simple chatbot using python language. Write a program in python to help Rakshita in creating the chatbot. ● Hint: with the help of variables store the answers of the user and use it for further conversation by the chatbot. ● Example : ● >> ● Hi, I am a chatbot. What is your name? ● >>Nidhi ● Oh, Nidhi in which grade you are right now? ● >>8 ● Nidhi you are in 8th grade. Can I ask you one question? yes or no? ● >>yes ● Tell me 1024+98=? ● >>1122 ● Good! Your answer is correct. Bye ● >>bye\n"
      ],
      "metadata": {
        "id": "euxaaHMxWI_8"
      }
    },
    {
      "cell_type": "code",
      "source": [
        "print(\"Hi, I am a chatbot.\")\n",
        "name = input(\"What is your name? \")\n",
        "print(\"Oh,\", name + \", in which grade are you right now?\")\n",
        "grade = input()\n",
        "print(name + \", you are in\", grade, \"grade. Can I ask you one question? yes or no?\")\n",
        "res = input()\n",
        "if res == \"yes\":\n",
        "    print(\"Tell me, what is 1024 + 98?\")\n",
        "    ans = input()\n",
        "    if ans == \"1122\":\n",
        "        print(\"Good! Your answer is correct. Bye.\")\n",
        "    else:\n",
        "        print(\"Sorry, your answer is incorrect. The correct answer is 1122. Bye.\")\n",
        "else:\n",
        "    print(\"Okay, Bye.\")"
      ],
      "metadata": {
        "colab": {
          "base_uri": "https://localhost:8080/"
        },
        "id": "Y8VjrzonWLzL",
        "outputId": "ca39e3ea-40da-481d-9307-3572ad979fda"
      },
      "execution_count": null,
      "outputs": [
        {
          "output_type": "stream",
          "name": "stdout",
          "text": [
            "Hi, I am a chatbot.\n",
            "What is your name? nidhi\n",
            "Oh, nidhi, in which grade are you right now?\n",
            "8\n",
            "nidhi, you are in 8 grade. Can I ask you one question? yes or no?\n",
            "yes\n",
            "Tell me, what is 1024 + 98?\n",
            "1122\n",
            "Good! Your answer is correct. Bye.\n"
          ]
        }
      ]
    },
    {
      "cell_type": "markdown",
      "source": [
        "Himanshu sells notebooks. Sometimes it becomes a bit difficult for him to calculate the total amount to charge from the customer. To help Himanshu create a program that asks the user to enter the number of books to buy and then print the amount to be paid. ● Hint: Assume the cost of one notebook - $2"
      ],
      "metadata": {
        "id": "CQNfIwiTXuEb"
      }
    },
    {
      "cell_type": "code",
      "source": [
        "x = int(input(\"Enter the number of books to buy ? \"))\n",
        "print(\"The amount to be paid is\",2*x)"
      ],
      "metadata": {
        "colab": {
          "base_uri": "https://localhost:8080/"
        },
        "id": "as0BHthWXzmM",
        "outputId": "4d094a76-53bc-4eb9-c0ef-f96a991d5cfc"
      },
      "execution_count": null,
      "outputs": [
        {
          "output_type": "stream",
          "name": "stdout",
          "text": [
            "Enter the number of books to buy ? 4\n",
            "The amount to be paid is 8\n"
          ]
        }
      ]
    },
    {
      "cell_type": "markdown",
      "source": [
        "Shubh is excited to do something mathematical in python. He decided to create a program that could add, subtract, multiply and divide two numbers. To help Shubh write a python program to apply addition, subtraction, multiplication, and division between two numbers. ● Rakshita wants to calculate her age. So she subtracted her year of birth from the current year. Her classmates also wanted to find their age in the same way. So she decides to write a python program where students can input their year of birth, then the program will print their age. Write the same program to find your age and help your classmates in finding their age\n"
      ],
      "metadata": {
        "id": "5GRd2G00Y1Ey"
      }
    },
    {
      "cell_type": "code",
      "source": [
        "x = 2024\n",
        "y = int(input(\"Enter your - Year of birth:\" ))\n",
        "print(x-y)"
      ],
      "metadata": {
        "colab": {
          "base_uri": "https://localhost:8080/"
        },
        "id": "VlPCqEcCY1pE",
        "outputId": "454c31c5-4a3a-4df1-fbc4-5e1868d9e110"
      },
      "execution_count": null,
      "outputs": [
        {
          "output_type": "stream",
          "name": "stdout",
          "text": [
            "Enter your - Year of birth:2003\n",
            "21\n"
          ]
        }
      ]
    },
    {
      "cell_type": "markdown",
      "source": [
        "ASSIGNMENT 2\n",
        "\n",
        "Its childrens day and the class teacher wanted to share chocolates with the entire class the details are as follows,The number of chocolates with the teacher are = 327 Number of kids in the class are = 78. Write a program to perform modulus division using (%) modulus operator and find out how many chocolates are remaining with the teacher after equally distributing 327 chocolates to 78 students.\n",
        "\n"
      ],
      "metadata": {
        "id": "ei8msIKSg9h6"
      }
    },
    {
      "cell_type": "code",
      "source": [
        "n = int(input(\"Number of chocolates with the teacher:\"))\n",
        "k = int(input(\"Number of kids in the class:\"))\n",
        "print(\"The remaining chocolates are :\",n%k)"
      ],
      "metadata": {
        "colab": {
          "base_uri": "https://localhost:8080/"
        },
        "id": "I2SaueLShCAO",
        "outputId": "151781d4-c890-4fd0-9ba5-abf82edd3874"
      },
      "execution_count": null,
      "outputs": [
        {
          "output_type": "stream",
          "name": "stdout",
          "text": [
            "Number of chocolates with the teacher:7\n",
            "Number of kids in the class:3\n",
            "The remaining chocolates are : 1\n"
          ]
        }
      ]
    },
    {
      "cell_type": "markdown",
      "source": [
        "It's Domino's 25th Anniversary and is planning for a big give away and in order to choose the lucky draw winner Domino's first needs to collect all of its customer details. On collecting the customer details Domino's even wants to thank each and every customer for visiting as soon as they entered their details.Write a program to accept customer details like customer name, customer mobile number, customer age, customer email Id.On successfully receiving all the customer information write a print() to thank the customer by using his name for example\"Hi\", customerName,\"!! Thanks for visiting our restaurant and registering for our lucky draw competition on our 25th Anniversary.\"\"Once the lucky draw results are announced you will receive a message on your mobile number :\",customerMobileNumber\"An detailed description of your gift on your email Id :\",customerEmailId\"Thank you for being a valued customer\",customerName,\"!!\"\"Dominos\"\n",
        "\n"
      ],
      "metadata": {
        "id": "YxWNHqmTrA9s"
      }
    },
    {
      "cell_type": "code",
      "source": [
        "#Getting customer's details\n",
        "cust_name = str(input(\"Enter the customer name:\"))\n",
        "cust_mobno = int(input(\"Enter the mobile number:\"))\n",
        "cust_age = int(input(\"Enter your age:\"))\n",
        "cust_emailid = input(\"Enter your emailid:\")\n",
        "print(\"Hii..\", cust_name, \"!!.Thanks for visiting our restaurant and registering for our lucky draw competition on our 25th Anniversary. Once the lucky draw results are announced you will receive a message on your mobile number:\", cust_mobno, \"A detailed description of your gift will be sent to your email Id:\", cust_emailid, \". Thank you for being a valued customer\", cust_name, \"!! Dominos\")"
      ],
      "metadata": {
        "colab": {
          "base_uri": "https://localhost:8080/"
        },
        "id": "Vjg2y0xGrBvZ",
        "outputId": "2a458982-3ef6-4c55-f075-4e6146ef818f"
      },
      "execution_count": null,
      "outputs": [
        {
          "output_type": "stream",
          "name": "stdout",
          "text": [
            "Enter the customer name:priya\n",
            "Enter the mobile number:9876543210\n",
            "Enter your age:23\n",
            "Enter your emailid:vaihj0988@gmail.com\n",
            "Hii.. priya !!.Thanks for visiting our restaurant and registering for our lucky draw competition on our 25th Anniversary. Once the lucky draw results are announced you will receive a message on your mobile number: 9876543210 A detailed description of your gift will be sent to your email Id: vaihj0988@gmail.com . Thank you for being a valued customer priya !! Dominos\n"
          ]
        }
      ]
    },
    {
      "cell_type": "markdown",
      "source": [
        "Teacher wants to conduct a quiz activity in her class. For that she is planning to group 4 students for each team among 60 students. She wants to know how many teams she can create among 60 students.Write a program to find the total number of teams that can be created among students by dividing total number of students to the number of students per team.Total number of student = 60 Number of students per team =4\n"
      ],
      "metadata": {
        "id": "P-8bXbbBtZ68"
      }
    },
    {
      "cell_type": "code",
      "source": [
        "n = int(input(\"Enter the total number of Students:\"))\n",
        "k = int(input(\"Enter the team size:\"))\n",
        "print(\"Total teams formed\",n//k)"
      ],
      "metadata": {
        "colab": {
          "base_uri": "https://localhost:8080/"
        },
        "id": "xedMuSACtaeX",
        "outputId": "a14b09eb-818b-4665-d276-b1a144ee569b"
      },
      "execution_count": null,
      "outputs": [
        {
          "output_type": "stream",
          "name": "stdout",
          "text": [
            "Enter the total number of Students:60\n",
            "Enter the team size:4\n",
            "Total teams formed 15\n"
          ]
        }
      ]
    },
    {
      "cell_type": "markdown",
      "source": [
        "Nidhi loves to travel to different countries. She is now in a country where the temperature is measured in Fahrenheit and she is not able to understand it in a better way. To help her in this situation, write program to convert temperature from Fahrenheit to celsius. ● Hint: (0°C × 9/5) + 32 = 32°F\n"
      ],
      "metadata": {
        "id": "aIUKak87uUvs"
      }
    },
    {
      "cell_type": "code",
      "source": [
        "temp = float(input(\"Enter the temperature in Fahrenheit:\"))\n",
        "print(\"The temperature from Fahrenheit to celsius is:\",(5/9)*(temp-32))"
      ],
      "metadata": {
        "colab": {
          "base_uri": "https://localhost:8080/"
        },
        "id": "Zsb9tB44uVn6",
        "outputId": "9228e009-0fd2-4978-8b8d-18e34e79e019"
      },
      "execution_count": null,
      "outputs": [
        {
          "output_type": "stream",
          "name": "stdout",
          "text": [
            "Enter the temperature in Fahrenheit:64\n",
            "The temperature from Fahrenheit to celsius is: 17.77777777777778\n"
          ]
        }
      ]
    },
    {
      "cell_type": "markdown",
      "source": [
        "ASSIGNMENT 3\n",
        "\n",
        "A palindrome is a word, number, phrase, or other sequence of characters that reads the same backward as forward, such as madam or racecar. Arunima got a new puppy (pet) and she wants to decide the name for her pet. The name of the pet should be a palindrome. Write a program to take the pet name as input and print \"true\" if it is palindrome or print \"false\" on screen. Help Arunima to decide the name ( should be palindrome ) of the puppy. Hint: reverse the name and compare it with the original name.\n"
      ],
      "metadata": {
        "id": "_9uEUTzuvKpH"
      }
    },
    {
      "cell_type": "code",
      "source": [
        "pet_name = str(input(\"Enter the name:\"))\n",
        "rev_pet = pet_name[::-1]\n",
        "if pet_name == rev_pet:\n",
        "  print(\"True !..The pet name is plaindrome\")\n",
        "else:\n",
        "  print(\"False..The name is not palindrom\")\n"
      ],
      "metadata": {
        "colab": {
          "base_uri": "https://localhost:8080/"
        },
        "id": "OI1yrbiIvOzP",
        "outputId": "6966f411-e433-420f-f20d-3e8e60fed03d"
      },
      "execution_count": null,
      "outputs": [
        {
          "output_type": "stream",
          "name": "stdout",
          "text": [
            "Enter the name:vow\n",
            "False..The name is not palindrom\n"
          ]
        }
      ]
    },
    {
      "cell_type": "markdown",
      "source": [
        "Aarush and Yash are two friends in the same grade and they decided to create their secret language to communicate with each other. First of all, they decided to reverse each word. For example: come here = \"emoc ereh\". But this was very easy to understand for other students. They tried to make it a bit difficult and decided to put all the characters which are at odd indices first then all the characters which are at even indices. For example: come here = \"oecm eehr\". Write a program in python to create such type of secret language and convert the word Codeyoung into secret language using the same program. Can we convert the secret language back to normal language using python? Discuss"
      ],
      "metadata": {
        "id": "nY2RuRFBwfPA"
      }
    },
    {
      "cell_type": "code",
      "source": [
        "word = str(input(\"Enter the input word:\"))\n",
        "x = word.split()\n",
        "y = []\n",
        "for i in x:\n",
        "  odd = \"\"\n",
        "  even = \"\"\n",
        "  for j in range(len(i)):\n",
        "    if j%2 == 0:\n",
        "      even += i[j]\n",
        "    else:\n",
        "      odd += i[j]\n",
        "  y.append(odd + even)\n",
        "s = ''.join(y)\n",
        "print(s)"
      ],
      "metadata": {
        "id": "FKL0zc2MwgCq",
        "colab": {
          "base_uri": "https://localhost:8080/"
        },
        "outputId": "bc9206c2-a888-48a3-8804-649d53961106"
      },
      "execution_count": null,
      "outputs": [
        {
          "output_type": "stream",
          "name": "stdout",
          "text": [
            "Enter the input word:come here\n",
            "oecmeehr\n"
          ]
        }
      ]
    },
    {
      "cell_type": "markdown",
      "source": [
        "Vishal is creating a form and he wants to take the contact number as input. However, some people do not enter the number properly. Vishal is confused about how to verify whether the given number is in the correct format or not. To help Vishal write a python program to show how we can verify whether a given phone number is valid or not. ● Note: A valid phone number contains 10 digits with 9,8 or 7 as the first digit. Phone number only contains numbers and not any character. ● Hint: ● User len() function to verify the number of digits. ● Use isnumeric() function to check it only contains numeric values.Use indexing to check whether the first character is 9,8 or 7 or not.\n"
      ],
      "metadata": {
        "id": "stvDsnQ-zf7n"
      }
    },
    {
      "cell_type": "code",
      "source": [
        "ph_number = input(\"Enter the phone number:\")\n",
        "if(len(ph_number) == 10 and ph_number.isnumeric() and ((ph_number[0] in ['9','8','7']))):\n",
        "  print(\"The ph_number is valid\")\n",
        "else:\n",
        "  print(\"Not valid\")\n",
        "\n",
        "\n",
        "\n"
      ],
      "metadata": {
        "colab": {
          "base_uri": "https://localhost:8080/"
        },
        "id": "hPuugtSEzgzo",
        "outputId": "c783f5c9-5ee4-40d4-8649-24585dcbf691"
      },
      "execution_count": null,
      "outputs": [
        {
          "output_type": "stream",
          "name": "stdout",
          "text": [
            "Enter the phone number:554330\n",
            "Not valid\n"
          ]
        }
      ]
    },
    {
      "cell_type": "markdown",
      "source": [
        "[06-03-2003]\n",
        "\n",
        "Jack has been experimenting a lot with mirrors in his Physics class. He was very distracted throughout his entire school day as he spent all day thinking about mirrors and mirror images. When Jack went to his computer class, he finally found a solution, he wanted to create a computer program that can take a three letter string input from the user and display the mirror image of it. Write a program for the same."
      ],
      "metadata": {
        "id": "xxCayfN911mI"
      }
    },
    {
      "cell_type": "code",
      "source": [
        "s = str(input())\n",
        "x = \"\"\n",
        "for i in reversed(s):\n",
        "  x += i\n",
        "print(x)"
      ],
      "metadata": {
        "colab": {
          "base_uri": "https://localhost:8080/"
        },
        "id": "AQcagk921_58",
        "outputId": "aae57a1f-f1c4-4aa8-c0d9-f3dcf6a4281a"
      },
      "execution_count": null,
      "outputs": [
        {
          "output_type": "stream",
          "name": "stdout",
          "text": [
            "abc\n",
            "cba\n"
          ]
        }
      ]
    },
    {
      "cell_type": "markdown",
      "source": [
        "[06-03-2003]\n",
        "\n",
        "Jacob recently learnt about Strings and concatenation in his computer class at his school. Jacob was truly fascinated by the working of strings and its various functions. Jacob was tasked with creating a program that can join two strings “Computer” and “Programming”. Write a program to help Jacob"
      ],
      "metadata": {
        "id": "iYdAvHQf3kLU"
      }
    },
    {
      "cell_type": "code",
      "source": [
        "s1 = \"computer \"\n",
        "s2 = \"programming\"\n",
        "x = s1 + s2\n",
        "print(x)"
      ],
      "metadata": {
        "colab": {
          "base_uri": "https://localhost:8080/"
        },
        "id": "lGO4cq923n6T",
        "outputId": "13c68e90-bc4a-4b6f-c054-4f1270b581f6"
      },
      "execution_count": null,
      "outputs": [
        {
          "output_type": "stream",
          "name": "stdout",
          "text": [
            "computer programming\n"
          ]
        }
      ]
    },
    {
      "cell_type": "markdown",
      "source": [
        "[06-03-2003]\n",
        "\n",
        "Bonnie visited the amusement park with her father. She enjoyed all the rides very much but one in particular caught her eye. The one and only rollercoaster!BUT!\n",
        "There is a age requirement for riding that coaster. The minimum age required is 10. If Bonnie is 15 years old, can we check if she can ride the rollercoaster?"
      ],
      "metadata": {
        "id": "Gz6d8uKE4W3n"
      }
    },
    {
      "cell_type": "code",
      "source": [
        "age = int(input(\"Enter the age:\"))\n",
        "if age >= 10:\n",
        "  print(\"eligible to ride\")\n",
        "else:\n",
        "  print(\"not eligible\")"
      ],
      "metadata": {
        "colab": {
          "base_uri": "https://localhost:8080/"
        },
        "id": "mK2ERUDw4ZR4",
        "outputId": "3139575d-8046-45ff-f108-ed8dc7e1277b"
      },
      "execution_count": null,
      "outputs": [
        {
          "output_type": "stream",
          "name": "stdout",
          "text": [
            "Enter the age:9\n",
            "not eligible\n"
          ]
        }
      ]
    }
  ]
}