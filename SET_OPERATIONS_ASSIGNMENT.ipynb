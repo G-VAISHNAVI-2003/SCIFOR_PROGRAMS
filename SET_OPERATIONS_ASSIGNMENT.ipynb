{
  "nbformat": 4,
  "nbformat_minor": 0,
  "metadata": {
    "colab": {
      "provenance": [],
      "authorship_tag": "ABX9TyPbiliPv3mRofadSSfDvnpv",
      "include_colab_link": true
    },
    "kernelspec": {
      "name": "python3",
      "display_name": "Python 3"
    },
    "language_info": {
      "name": "python"
    }
  },
  "cells": [
    {
      "cell_type": "markdown",
      "metadata": {
        "id": "view-in-github",
        "colab_type": "text"
      },
      "source": [
        "<a href=\"https://colab.research.google.com/github/G-VAISHNAVI-2003/SCIFOR_PROGRAMS/blob/main/SET_OPERATIONS_ASSIGNMENT.ipynb\" target=\"_parent\"><img src=\"https://colab.research.google.com/assets/colab-badge.svg\" alt=\"Open In Colab\"/></a>"
      ]
    },
    {
      "cell_type": "markdown",
      "source": [
        "SET and its operations\n"
      ],
      "metadata": {
        "id": "6ZX0vZsi_6Lx"
      }
    },
    {
      "cell_type": "code",
      "source": [
        "a = {\"x\",\"y\",\"z\",\"1\"}\n",
        "print(a)"
      ],
      "metadata": {
        "colab": {
          "base_uri": "https://localhost:8080/"
        },
        "id": "UJkC6NTR_8sG",
        "outputId": "f1fc3345-3f38-468e-9c42-13501347556f"
      },
      "execution_count": null,
      "outputs": [
        {
          "output_type": "stream",
          "name": "stdout",
          "text": [
            "{'z', 'x', 'y', '1'}\n"
          ]
        }
      ]
    },
    {
      "cell_type": "code",
      "source": [
        "a = {\"xyz\",\"abc\",\"mno\",1,0,True,False,\"True\",\"False\"}\n",
        "print(a)\n",
        "\n",
        "b = {\"abc\",\"def\",\"ghi\",True,False}\n",
        "print(b)"
      ],
      "metadata": {
        "colab": {
          "base_uri": "https://localhost:8080/"
        },
        "id": "vPa6ggmSAEs9",
        "outputId": "efd257a5-28c9-4521-9cdb-e146f196f706"
      },
      "execution_count": null,
      "outputs": [
        {
          "output_type": "stream",
          "name": "stdout",
          "text": [
            "{0, 1, 'mno', 'True', 'abc', 'False', 'xyz'}\n",
            "{False, True, 'def', 'abc', 'ghi'}\n"
          ]
        }
      ]
    },
    {
      "cell_type": "code",
      "source": [
        "a = {\"abc\",\"def\",\"abc\"}\n",
        "print(a)\n",
        "\n",
        "b = {1,2,1,1,1,2,3,4,5,6}\n",
        "print(b)\n",
        "\n",
        "x = {1,2,3,4,5,6}\n",
        "print(\"The length of x is:\",len(x))\n",
        "\n",
        "y = {1,1,2,3,2,1,1,2,4,5,6}\n",
        "print(\"The length if y with duplicates is:\",len(y))"
      ],
      "metadata": {
        "colab": {
          "base_uri": "https://localhost:8080/"
        },
        "id": "SRQGzooAAj4C",
        "outputId": "608d45c3-0f72-4ede-aeed-b91a09bb1136"
      },
      "execution_count": null,
      "outputs": [
        {
          "output_type": "stream",
          "name": "stdout",
          "text": [
            "{'def', 'abc'}\n",
            "{1, 2, 3, 4, 5, 6}\n",
            "The length of x is: 6\n",
            "The length if y with duplicates is: 6\n"
          ]
        }
      ]
    },
    {
      "cell_type": "code",
      "source": [
        "s = {\"a\",\"b\",\"c\",1,2,3}\n",
        "for i in s:\n",
        "  print(\"The values in s:\",i)\n",
        "\n",
        "\n",
        "\n",
        "s1 = {\"priya\",\"madhu\",\"paul\"}\n",
        "if \"madhu\" in s1:\n",
        "  print(\"Hello\")\n",
        "else:\n",
        "  print(\"No name\")"
      ],
      "metadata": {
        "colab": {
          "base_uri": "https://localhost:8080/"
        },
        "id": "rCa0_uJJBZ4U",
        "outputId": "8f8a8336-00af-49ac-f8ff-1d3e098a08d8"
      },
      "execution_count": null,
      "outputs": [
        {
          "output_type": "stream",
          "name": "stdout",
          "text": [
            "The values in s: 1\n",
            "The values in s: 2\n",
            "The values in s: 3\n",
            "The values in s: a\n",
            "The values in s: c\n",
            "The values in s: b\n",
            "Hello\n"
          ]
        }
      ]
    },
    {
      "cell_type": "code",
      "source": [
        "a = {\"x\",\"y\",\"Z\"}\n",
        "a.add(\"b\")\n",
        "print(a)\n",
        "\n",
        "print()\n",
        "\n",
        "a.update(\"c\",\"d\",\"e\")\n",
        "print(a)\n",
        "\n",
        "print()\n",
        "\n",
        "x1 = {\"abc\",\"def\",\"ijk\"}\n",
        "x2 = {\"uvw\",\"xyz\"}\n",
        "x1.update(x2)\n",
        "print(x1)\n",
        "\n",
        "print()\n",
        "\n",
        "z = {1,2,3,4,5,6}\n",
        "print(\"Before removing:\",z)\n",
        "z.remove(1)\n",
        "print(\"After removing:\",z)\n",
        "z.pop()\n",
        "print(\"After pop:\",z)\n"
      ],
      "metadata": {
        "colab": {
          "base_uri": "https://localhost:8080/"
        },
        "id": "vkofL70gF5-g",
        "outputId": "4c6872fa-3a28-405b-88a4-99ded60d5b27"
      },
      "execution_count": null,
      "outputs": [
        {
          "output_type": "stream",
          "name": "stdout",
          "text": [
            "{'Z', 'x', 'y', 'b'}\n",
            "\n",
            "{'d', 'c', 'Z', 'e', 'y', 'x', 'b'}\n",
            "\n",
            "{'def', 'abc', 'ijk', 'uvw', 'xyz'}\n",
            "\n",
            "Before removing: {1, 2, 3, 4, 5, 6}\n",
            "After removing: {2, 3, 4, 5, 6}\n",
            "After pop: {3, 4, 5, 6}\n"
          ]
        }
      ]
    }
  ]
}